{
 "cells": [
  {
   "cell_type": "code",
   "execution_count": 22,
   "id": "5f0768a0",
   "metadata": {},
   "outputs": [
    {
     "name": "stdout",
     "output_type": "stream",
     "text": [
      "Dame un número: 100\n",
      "2,3,5,7,11,13,17,19,23,29,31,37,41,43,47,53,59,61,67,71,73,79,83,89,97,"
     ]
    }
   ],
   "source": [
    "#1.\n",
    "#Escribir una función de Python que encuentre los números primos en los primeros N números naturales.\n",
    "#N es el argumento de la función\n",
    "#Llamar la función desde el código principal\n",
    "\n",
    "\n",
    "def primo(N):\n",
    "    if N == 0 or N == 1 or N == 4:\n",
    "        return False\n",
    "    for i in range(2, int(N/2)):\n",
    "        if N % i == 0:\n",
    "            return False\n",
    "    return True\n",
    "\n",
    "\n",
    "numero = int(input(\"Dame un número: \"))\n",
    "for numero in range(numero):\n",
    "    if primo(numero):\n",
    "        print(numero, end=\",\")"
   ]
  },
  {
   "cell_type": "code",
   "execution_count": 30,
   "id": "45e3d1ed",
   "metadata": {},
   "outputs": [
    {
     "name": "stdout",
     "output_type": "stream",
     "text": [
      "El vector 1 es:  [5 2 8]\n",
      "El vector 1 es:  [9 8 5]\n",
      "[-54  47  22]\n"
     ]
    }
   ],
   "source": [
    "#2.\n",
    "#Escribir una función de Pyton que encuentre el producto cruz en vectores de 3 componentes.\n",
    "#La función recibe dos listas (vectores)\n",
    "#La función regresa un tercer vector (lista) con el resultado\n",
    "#Llamar a la función desde el código principal\n",
    "\n",
    "import random\n",
    "import numpy as np\n",
    "\n",
    "L1 = random.sample(range(10),3)\n",
    "L2 = random.sample(range(10),3)\n",
    "\n",
    "V1 = np.array(L1)\n",
    "print(\"El vector 1 es: \", V1)\n",
    "V2 = np.array(L2)\n",
    "print(\"El vector 1 es: \",V2)\n",
    "\n",
    "Fin = np.cross(V1,V2)\n",
    "print(Fin)"
   ]
  },
  {
   "cell_type": "code",
   "execution_count": 48,
   "id": "fca8baa5",
   "metadata": {},
   "outputs": [
    {
     "name": "stdout",
     "output_type": "stream",
     "text": [
      "A =  [4.2, 2.9, 6.1]\n",
      "B =  [2.4, 5.2, 6.3]\n",
      "El resultado de A * B =  [-13.45, -11.820000000000002, 14.880000000000003]\n"
     ]
    }
   ],
   "source": [
    "#2.\n",
    "#Escribir una función de Pyton que encuentre el producto cruz en vectores de 3 componentes.\n",
    "#La función recibe dos listas (vectores)\n",
    "#La función regresa un tercer vector (lista) con el resultado\n",
    "#Llamar a la función desde el código principal\n",
    "\n",
    "\n",
    "def VCruz(l1,l2):\n",
    "    c  = []\n",
    "    c.append(l1[1]*l2[2]-l1[2]*l2[1])\n",
    "    c.append(l1[2]*l2[0]-l1[0]*l2[2])\n",
    "    c.append(l1[0]*l2[1]-l1[1]*l2[0])\n",
    "    return c\n",
    "\n",
    "L1 = [4.2,2.9,6.1]\n",
    "print(\"A = \", L1)\n",
    "L2 = [2.4,5.2,6.3]\n",
    "print(\"B = \", L2)\n",
    "\n",
    "VFinal = VCruz(L1,L2)\n",
    "print(\"El resultado de A * B = \", VFinal)\n",
    "\n"
   ]
  },
  {
   "cell_type": "code",
   "execution_count": 55,
   "id": "07a22e2f",
   "metadata": {},
   "outputs": [
    {
     "name": "stdout",
     "output_type": "stream",
     "text": [
      "[['13.45', ' 20.67', ' -15.0821'], ['-5.012', ' -40.333', ' 12.874']]\n"
     ]
    }
   ],
   "source": [
    "#3.\n",
    "#Re-escribir el problema 2, pero ahora los vectores son leídos desde un archivo de texto.\n",
    "\n",
    "def VCruz(l1,l2):\n",
    "    c  = []\n",
    "    c.append(l1[1]*l2[2]-l1[2]*l2[1])\n",
    "    c.append(l1[2]*l2[0]-l1[0]*l2[2])\n",
    "    c.append(l1[0]*l2[1]-l1[1]*l2[0])\n",
    "    return c\n",
    "\n",
    "\n",
    "import csv\n",
    "filas = []\n",
    "with open(\"vectors.csv\",'r') as file:\n",
    "    csvr = csv.reader(file)\n",
    "    for row in csvr:\n",
    "        filas.append(row)\n",
    "print (filas)\n",
    "\n",
    "\n",
    "\n",
    "x = [float(filas[0][0]), float(filas[0][1]), float(filas[0][2])]\n",
    "y = [float(filas[1][0]), float(filas[1][1]), float(filas[1][2])]\n",
    "\n",
    "cr = VCruz(x,y)\n",
    "\n"
   ]
  },
  {
   "cell_type": "code",
   "execution_count": null,
   "id": "fef874bf",
   "metadata": {},
   "outputs": [],
   "source": []
  }
 ],
 "metadata": {
  "kernelspec": {
   "display_name": "Python 3 (ipykernel)",
   "language": "python",
   "name": "python3"
  },
  "language_info": {
   "codemirror_mode": {
    "name": "ipython",
    "version": 3
   },
   "file_extension": ".py",
   "mimetype": "text/x-python",
   "name": "python",
   "nbconvert_exporter": "python",
   "pygments_lexer": "ipython3",
   "version": "3.9.7"
  }
 },
 "nbformat": 4,
 "nbformat_minor": 5
}
